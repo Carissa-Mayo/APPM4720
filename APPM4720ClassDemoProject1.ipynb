{
 "cells": [
  {
   "cell_type": "markdown",
   "metadata": {},
   "source": [
    "# Demo Problem\n",
    "### Carissa Mayo and Anna Rossen"
   ]
  },
  {
   "cell_type": "code",
   "execution_count": null,
   "metadata": {
    "colab": {
     "base_uri": "https://localhost:8080/"
    },
    "id": "DZVwgiIR3Txq",
    "outputId": "7cb76324-927c-459a-c266-503fc26c2598"
   },
   "outputs": [],
   "source": [
    "# we need the updated version of deepxde (deep learning package) for this demo\n",
    "!pip install DeepXDE"
   ]
  },
  {
   "cell_type": "code",
   "execution_count": null,
   "metadata": {
    "id": "WI5RQzxX3Lzd"
   },
   "outputs": [],
   "source": [
    "import deepxde as dde\n",
    "import numpy as np\n"
   ]
  },
  {
   "cell_type": "markdown",
   "metadata": {},
   "source": [
    "## ODE System to model some biological process"
   ]
  },
  {
   "cell_type": "code",
   "execution_count": null,
   "metadata": {
    "id": "XY5UkO-J3gaU"
   },
   "outputs": [],
   "source": [
    "def ode_system(x, y):\n",
    "    \"\"\"ODE system.\n",
    "    dy1/dx = y2\n",
    "    dy2/dx = -y1\n",
    "    \"\"\"\n",
    "\n",
    "    y1, y2 = y[:, 0:1], y[:, 1:]\n",
    "    dy1_x = dde.grad.jacobian(y, x, i=0)\n",
    "    dy2_x = dde.grad.jacobian(y, x, i=1)\n",
    "\n",
    "    return [dy1_x - y2, dy2_x + y1]\n"
   ]
  },
  {
   "cell_type": "code",
   "execution_count": null,
   "metadata": {
    "id": "wRslyBA03sRN"
   },
   "outputs": [],
   "source": [
    "#sets boundary on initial condition\n",
    "#determines if you are at the initial condition (returns TRUE for t=0, FALSE otherwise)\n",
    "def boundary(_, on_initial):\n",
    "    return on_initial\n",
    "  "
   ]
  },
  {
   "cell_type": "markdown",
   "metadata": {},
   "source": [
    "## Reference functions"
   ]
  },
  {
   "cell_type": "code",
   "execution_count": null,
   "metadata": {
    "id": "v3Xlp5Wf3wwy"
   },
   "outputs": [],
   "source": [
    "# Here, sine and cosine are used to balance periodicity - think of the feature layer\n",
    "def func(x):\n",
    "    \"\"\"\n",
    "    y1 = sin(x)\n",
    "    y2 = cos(x)\n",
    "    \"\"\"\n",
    "    return np.hstack((np.sin(x), np.cos(x)))"
   ]
  },
  {
   "cell_type": "code",
   "execution_count": null,
   "metadata": {
    "id": "jT37V3ns3zSh"
   },
   "outputs": [],
   "source": [
    "#time domain \n",
    "geom = dde.geometry.TimeDomain(0, 10)\n",
    "\n",
    "#initial conditions ic1 and ic2 using geom, boundary, and initial function:\n",
    "ic1 = dde.icbc.IC(geom, lambda x: 0, boundary, component=0)\n",
    "ic2 = dde.icbc.IC(geom, lambda x: 1, boundary, component=1)\n",
    "data = dde.data.PDE(geom, ode_system, [ic1, ic2], 35, 2, solution=func, num_test=100)"
   ]
  },
  {
   "cell_type": "markdown",
   "metadata": {},
   "source": [
    "## Creating the network"
   ]
  },
  {
   "cell_type": "code",
   "execution_count": null,
   "metadata": {
    "id": "L2Vh5K5u4lZU"
   },
   "outputs": [],
   "source": [
    "layer_size = [1] + [50] * 3 + [2] # fully connected neural network of depth 4 (3 hidden layers) and width 50\n",
    "activation = \"tanh\" #hyperbolic tangent function used as activation function (sigma) in the features layer\n",
    "initializer = \"Glorot uniform\" #generates initial value from a uniform distribution\n",
    "net = dde.nn.FNN(layer_size, activation, initializer)"
   ]
  },
  {
   "cell_type": "code",
   "execution_count": null,
   "metadata": {
    "colab": {
     "base_uri": "https://localhost:8080/",
     "height": 416
    },
    "id": "vP6AoCq54oqL",
    "outputId": "e844720c-9a1b-4528-8088-cd99127cae66"
   },
   "outputs": [],
   "source": [
    "model = dde.Model(data, net) #build the model\n",
    "model.compile(\"adam\", lr=0.001, metrics=[\"l2 relative error\"]) # first training of the model\n",
    "# the Adam optimizer - minimizes the loss function via gradient-based optimizer\n",
    "# learning rate - how quickly the model updates the concepts it has learned\n",
    "\n",
    "losshistory, train_state = model.train(iterations=20000)\n",
    "\n",
    "#plots best trained result and loss history \n",
    "#finds when the loss history is lowest and that corrseponds to best trained result"
   ]
  },
  {
   "cell_type": "code",
   "execution_count": null,
   "metadata": {
    "colab": {
     "base_uri": "https://localhost:8080/",
     "height": 592
    },
    "id": "7_KKAT574wlF",
    "outputId": "e9ccc776-4e36-4840-97c7-e018a3ee2f1a"
   },
   "outputs": [],
   "source": [
    "dde.saveplot(losshistory, train_state, issave=True, isplot=True)"
   ]
  },
  {
   "cell_type": "markdown",
   "metadata": {
    "id": "FJ6KWQMry3hk"
   },
   "source": [
    "# Try on your own!!! See what happens with...\n",
    "## - a different activation function (maybe swish)\n",
    "## - a longer (or shorter) run time\n",
    "## - different system of ODEs \n",
    "## - different reference functions"
   ]
  },
  {
   "cell_type": "code",
   "execution_count": null,
   "metadata": {},
   "outputs": [],
   "source": []
  }
 ],
 "metadata": {
  "colab": {
   "provenance": []
  },
  "kernelspec": {
   "display_name": "Python 3 (ipykernel)",
   "language": "python",
   "name": "python3"
  },
  "language_info": {
   "codemirror_mode": {
    "name": "ipython",
    "version": 3
   },
   "file_extension": ".py",
   "mimetype": "text/x-python",
   "name": "python",
   "nbconvert_exporter": "python",
   "pygments_lexer": "ipython3",
   "version": "3.9.13"
  }
 },
 "nbformat": 4,
 "nbformat_minor": 1
}
